{
 "cells": [
  {
   "cell_type": "markdown",
   "metadata": {
    "colab_type": "text",
    "id": "7H3yTncQfoym"
   },
   "source": [
    "##### Copyright 2018 The TensorFlow Authors."
   ]
  },
  {
   "cell_type": "code",
   "execution_count": 0,
   "metadata": {
    "colab": {},
    "colab_type": "code",
    "id": "h1CiDh7CfqON"
   },
   "outputs": [],
   "source": [
    "#@title Licensed under the Apache License, Version 2.0 (the \"License\");\n",
    "# you may not use this file except in compliance with the License.\n",
    "# You may obtain a copy of the License at\n",
    "#\n",
    "# https://www.apache.org/licenses/LICENSE-2.0\n",
    "#\n",
    "# Unless required by applicable law or agreed to in writing, software\n",
    "# distributed under the License is distributed on an \"AS IS\" BASIS,\n",
    "# WITHOUT WARRANTIES OR CONDITIONS OF ANY KIND, either express or implied.\n",
    "# See the License for the specific language governing permissions and\n",
    "# limitations under the License."
   ]
  },
  {
   "cell_type": "markdown",
   "metadata": {
    "colab_type": "text",
    "id": "pp-UaomMQJNo"
   },
   "source": [
    "# Neural Network from Scratch in TensorFlow Core\n",
    "\n",
    "_Notebook orignially contributed by: [am1tyadav](https://github.com/am1tyadav)_\n",
    "\n",
    "<table class=\"tfo-notebook-buttons\" align=\"left\">\n",
    "  <td>\n",
    "    <a target=\"_blank\" href=\"https://colab.research.google.com/github/tensorflow/examples/blob/master/community/en/tensorflow_core/multi_class_classification.ipynb\"><img src=\"https://www.tensorflow.org/images/colab_logo_32px.png\" />Run in Google Colab</a>\n",
    "  </td>\n",
    "  <td>\n",
    "    <a target=\"_blank\" href=\"https://github/tensorflow/examples/tree/master/community/en/tensorflow_core/multi_class_classification.ipynb\"><img src=\"https://www.tensorflow.org/images/GitHub-Mark-32px.png\" />View source on GitHub</a>\n",
    "  </td>\n",
    "</table>"
   ]
  },
  {
   "cell_type": "markdown",
   "metadata": {
    "colab_type": "text",
    "id": "NBhbug0Qgmuu"
   },
   "source": [
    "## Overview\n",
    "In this notebook, we will create a Neural Network model from scratch to solve a Multi-Class Classification problem using TensorFlow Core. We are going to use the popular MNIST dataset (Grayscale images of hand-written digits from 0 to 9). \n",
    "\n",
    "If you already have some idea on how to create and train models using a high level API (like Keras) but want to dive a bit into the lower level code (TensorFlow Core), then this notebook would, hopefully, be useful to you. This notebook will expose you on how to use computational graphs in TensorFlow as we write the code for forward propagation and computing costs from scratch. Backward propagation and gradient computation is done automatically by TensorFlow."
   ]
  },
  {
   "cell_type": "markdown",
   "metadata": {
    "colab_type": "text",
    "id": "zK2SZnszhSYk"
   },
   "source": [
    "## Setup\n",
    "Let's start by importing the libraries and functions that we will need. The MNIST dataset is easily accessible from Keras. We will use the `to_categorical` helper function from Keras utilities to convert the labels to one-hot encoded representations."
   ]
  },
  {
   "cell_type": "code",
   "execution_count": 0,
   "metadata": {
    "colab": {},
    "colab_type": "code",
    "id": "S1sepk9uMddm"
   },
   "outputs": [],
   "source": [
    "import tensorflow as tf\n",
    "import numpy as np\n",
    "import matplotlib.pyplot as plt\n",
    "\n",
    "from tensorflow.python.keras.datasets import mnist\n",
    "from tensorflow.python.keras.utils import to_categorical"
   ]
  },
  {
   "cell_type": "markdown",
   "metadata": {
    "colab_type": "text",
    "id": "CH3QqWQ1RiP2"
   },
   "source": [
    "## Defining a Class for the Neural Network\n",
    "\n",
    "Next, let's define a class called `NNModel` for our neural network model. This class will encompass functionality typical to neural networks like forward propagation, computing costs and so on. After this class is ready, we will be able to use an instance of this class to simply call a method which will train the model on the training set and then return predictions on a given test set. When the class is initialized, we can pass on a list of number of nodes for the various layers including for the input and the output layers. All the layers are going to be densely connected. If, for example, we have 4 dimensional feature vectors, 3 output classes and want to use 2 hidden layers with 8 nodes each, we will pass on a list of number of nodes when instantiating the class like this:\n",
    "```\n",
    "layers = [4, 8, 8, 3]\n",
    "model = NNModel(layers)\n",
    "```"
   ]
  },
  {
   "cell_type": "code",
   "execution_count": 0,
   "metadata": {
    "colab": {},
    "colab_type": "code",
    "id": "m3za66lwMjWX"
   },
   "outputs": [],
   "source": [
    "class NNModel():\n",
    "  def __init__(self, layers):\n",
    "    self.costs = [] # for storing in-training costs\n",
    "    self.accuracies = [] # for storing in-training accuracies\n",
    "    self.params = {} # for storing parameters W and b for various layers\n",
    "    self.Z = {} # dictionary to store linear outputs\n",
    "    self.A = {} # dictionary to store activation outputs\n",
    "    self.layers = layers # a list of layers: each item is number of nodes\n",
    "    self.L = len(layers) # total number of layers including input & output\n",
    "    self.num_classes = layers[-1] # the last layer is the output layer\n",
    "    self.num_features = layers[0] # the first layer is the input layer"
   ]
  },
  {
   "cell_type": "markdown",
   "metadata": {
    "colab_type": "text",
    "id": "za_UE4kZnKo7"
   },
   "source": [
    "## Initializing Parameters\n",
    "We will use `tf.random_normal` to get random values from normal distribution for the weights of our network. The biases will be set to zeros. This gives us a starting point for figuring out the optimal values of the weights and the biases which best fit the dataset."
   ]
  },
  {
   "cell_type": "code",
   "execution_count": 0,
   "metadata": {
    "colab": {},
    "colab_type": "code",
    "id": "ejidHNJnie7h"
   },
   "outputs": [],
   "source": [
    "class NNModel(NNModel):\n",
    "  def initialize_params(self):\n",
    "    # initializing weights and biases for all the layers\n",
    "    for layer in range(1, self.L):\n",
    "      self.params['W' + str(layer)] = tf.Variable(\n",
    "          tf.random_normal([self.layers[layer], self.layers[layer-1]]))\n",
    "      self.params['b' + str(layer)] = tf.Variable(\n",
    "          tf.zeros([self.layers[layer], 1]))"
   ]
  },
  {
   "cell_type": "markdown",
   "metadata": {
    "colab_type": "text",
    "id": "X9NBnWhSnvn4"
   },
   "source": [
    "## Forward Propagation\n",
    "To perform one step of forward propagation, we will define the function given below. One step means computing on one single batch of training examples. First, we compute the linear outputs:\n",
    "\n",
    "\\begin{equation}\n",
    "Z = W.X+b\n",
    "\\end{equation}\n",
    "\n",
    "Followed by computation of the activation outputs. In this model, we are only going to use the _relu_ activation function. Note that the output layer does not need to have this activation since we will apply _softmax_ to it as we plan to apply to the model to a classification problem. When the computations for all the layers are done, the final linear output is returned by this function."
   ]
  },
  {
   "cell_type": "code",
   "execution_count": 0,
   "metadata": {
    "colab": {},
    "colab_type": "code",
    "id": "Y84daISunw_X"
   },
   "outputs": [],
   "source": [
    "class NNModel(NNModel):\n",
    "  def forward_prop(self, x_batch):\n",
    "    # compute linear and activation outputs for all the nodes\n",
    "    self.A['0'] = tf.transpose(x_batch)\n",
    "    for layer in range(1, self.L):\n",
    "      self.Z[str(layer)] = tf.add(tf.matmul(self.params['W' + str(layer)],\n",
    "          self.A[str(layer-1)]), self.params['b'+str(layer)])\n",
    "      if layer != self.L - 1: # No activation is applied to the output layer\n",
    "        self.A[str(layer)] = tf.nn.relu(self.Z[str(layer)])\n",
    "    return tf.transpose(self.Z[str(self.L-1)])"
   ]
  },
  {
   "cell_type": "markdown",
   "metadata": {
    "colab_type": "text",
    "id": "dAAkj5J8pInN"
   },
   "source": [
    "## Computing Cost\n",
    "The final linear output will be fed into a _softmax_ activation function and that will give us the probability scores for the output classes. We will use a function that TensorFlow provides to calculate the cross entropy loss given the final linear outputs and the labels. Cross entropy loss is simply indicative of the difference between the probability distribution of the given linear output and the probability distribution of the given labels in the dataset. Our function will return the computed cost back."
   ]
  },
  {
   "cell_type": "code",
   "execution_count": 0,
   "metadata": {
    "colab": {},
    "colab_type": "code",
    "id": "ghdTfd6wpOeD"
   },
   "outputs": [],
   "source": [
    "class NNModel(NNModel):\n",
    "  def compute_cost(self, x_batch, y_batch):\n",
    "    Z = self.forward_prop(x_batch)\n",
    "    cost = tf.reduce_mean(\n",
    "        tf.nn.softmax_cross_entropy_with_logits_v2(logits=Z, labels=y_batch))\n",
    "    return cost"
   ]
  },
  {
   "cell_type": "markdown",
   "metadata": {
    "colab_type": "text",
    "id": "KVjT6C2SqmH0"
   },
   "source": [
    "## Evaluating the Model\n",
    "As we train the model, we may want to look at its performance on the training data. The cost computed in the previous step can be a good indicator. Another indicator could be the accuracy on the training set. We will write a function to calculate this accuracy and it will be used again after the training is complete to calculate accuracy of the model on the test set. We can use `tf.argmax` to find the classes with the highest probability score and compare it with the given labels."
   ]
  },
  {
   "cell_type": "code",
   "execution_count": 0,
   "metadata": {
    "colab": {},
    "colab_type": "code",
    "id": "KNSJqjY7qnCe"
   },
   "outputs": [],
   "source": [
    "class NNModel(NNModel):\n",
    "  def evaluate(self, x_eval, y_eval, x, y):\n",
    "    correct = tf.equal(tf.argmax(self.forward_prop(x), 1), tf.argmax(y, 1))\n",
    "    acc = tf.reduce_mean(tf.cast(correct, 'float'))\n",
    "    accuracy = acc.eval({x: x_eval, y: y_eval})\n",
    "    return accuracy"
   ]
  },
  {
   "cell_type": "markdown",
   "metadata": {
    "colab_type": "text",
    "id": "8c4bNlGLrd5T"
   },
   "source": [
    "## The Training Loop\n",
    "Finally, we will write a function to run the training loop. This function will take arguments for the training set, the test set, number of epochs and batch size. We will first initialize the weights and biases, then create placeholders for the examples and labels to be used for forward propagation, computing costs and for evaluating the accuracies. We will use the _Adam Optimizer_ algorithm provided in TensorFlow.\n",
    "\n",
    "The training loop itself needs to run within a TensorFlow session. In this loop, we will calculate costs for all the batches by running the optimizer to minimize the costs. After each epoch, cost for that epoch will be printed out along with the evaluated accuracy."
   ]
  },
  {
   "cell_type": "code",
   "execution_count": 0,
   "metadata": {
    "colab": {},
    "colab_type": "code",
    "id": "K8Sh1UaQrc5D"
   },
   "outputs": [],
   "source": [
    "class NNModel(NNModel):\n",
    "  def train(self, x_train, y_train, x_test, y_test, epochs, batch_size):\n",
    "    self.initialize_params()\n",
    "    m = x_train.shape[0]\n",
    "\n",
    "    x = tf.placeholder('float', [None, self.num_features])\n",
    "    y = tf.placeholder('float', [None, self.num_classes])\n",
    "\n",
    "    cost = self.compute_cost(x, y)\n",
    "    optimizer = tf.train.AdamOptimizer().minimize(cost)\n",
    "\n",
    "    with tf.Session() as sess:\n",
    "      sess.run(tf.global_variables_initializer())\n",
    "\n",
    "      for epoch in range(epochs):\n",
    "        epoch_cost = 0\n",
    "\n",
    "        for batch in range(int(m / batch_size)):\n",
    "          x_batch = x_train[(batch*batch_size):(batch*batch_size+batch_size)]\n",
    "          y_batch = y_train[(batch*batch_size):(batch*batch_size+batch_size)]\n",
    "\n",
    "          _, current_cost = sess.run([optimizer, cost],\n",
    "              feed_dict={x: x_batch, y: y_batch})\n",
    "          epoch_cost += current_cost\n",
    "\n",
    "        self.costs.append(epoch_cost)\n",
    "        accuracy = self.evaluate(x_train, y_train, x, y)\n",
    "        self.accuracies.append(accuracy)\n",
    "        print('Epoch {}/{}. Cost: {:.2f}. Accuracy: {:.2f}'.format(epoch,\n",
    "            epochs, epoch_cost, accuracy))\n",
    "\n",
    "      print('=================')\n",
    "      print('Accuracy on test set: ', self.evaluate(x_test, y_test, x, y))\n",
    "      # predictions\n",
    "      z_pred = tf.argmax(self.forward_prop(x), 1)\n",
    "      predictions = z_pred.eval({x: x_test})\n",
    "    return predictions"
   ]
  },
  {
   "cell_type": "markdown",
   "metadata": {
    "colab_type": "text",
    "id": "8eCxbz9ZSwjr"
   },
   "source": [
    "## Processing the Dataset\n",
    "Now that the `NNModel` class is complete, let's import the dataset. We will also convert the labels to their one-hot encoded representations, normalize the pixel values for all examples (You can also try normalizing by first subtracting the mean from all pixel values and then dividing by the total range of values but simply dividing by the total range also works well). Finally, we will reshape the examples on both the sets to unroll then from 28 by 28 arrays to 784 dimensional vectors."
   ]
  },
  {
   "cell_type": "code",
   "execution_count": 0,
   "metadata": {
    "colab": {},
    "colab_type": "code",
    "id": "eAN1ONp6MvI7"
   },
   "outputs": [],
   "source": [
    "(x_train, y_train), (x_test, y_test) = mnist.load_data()\n",
    "\n",
    "x_test_orig = x_test\n",
    "\n",
    "y_train = to_categorical(y_train)\n",
    "y_test = to_categorical(y_test)\n",
    "\n",
    "x_train = x_train / 255.\n",
    "x_test = x_test / 255.\n",
    "\n",
    "x_train = np.float32(x_train)\n",
    "x_train = np.reshape(x_train, (60000, 784))\n",
    "x_test = np.float32(x_test)\n",
    "x_test = np.reshape(x_test, (10000, 784))"
   ]
  },
  {
   "cell_type": "markdown",
   "metadata": {
    "colab_type": "text",
    "id": "268qdJGGTULP"
   },
   "source": [
    "## Training the Model\n",
    "\n",
    "Now all we have to do is instantiate a model, pass in a list of layers with the number of units we want for each layer and call the `train()` method. We will need to pass the training set, the test set, number of epochs and the desired batch size."
   ]
  },
  {
   "cell_type": "code",
   "execution_count": 0,
   "metadata": {
    "colab": {
     "base_uri": "https://localhost:8080/",
     "height": 292
    },
    "colab_type": "code",
    "id": "t8nw7mdKMxvb",
    "outputId": "77298ca3-3e98-4d7a-a694-ea6345e2a0ca"
   },
   "outputs": [
    {
     "name": "stdout",
     "output_type": "stream",
     "text": [
      "WARNING:tensorflow:From /usr/local/lib/python3.6/dist-packages/tensorflow/python/framework/op_def_library.py:263: colocate_with (from tensorflow.python.framework.ops) is deprecated and will be removed in a future version.\n",
      "Instructions for updating:\n",
      "Colocations handled automatically by placer.\n",
      "Epoch 0/10. Cost: 86461.41. Accuracy: 0.83\n",
      "Epoch 1/10. Cost: 17170.09. Accuracy: 0.88\n",
      "Epoch 2/10. Cost: 11009.35. Accuracy: 0.91\n",
      "Epoch 3/10. Cost: 7924.80. Accuracy: 0.92\n",
      "Epoch 4/10. Cost: 5988.37. Accuracy: 0.93\n",
      "Epoch 5/10. Cost: 4617.45. Accuracy: 0.94\n",
      "Epoch 6/10. Cost: 3622.85. Accuracy: 0.95\n",
      "Epoch 7/10. Cost: 2862.60. Accuracy: 0.96\n",
      "Epoch 8/10. Cost: 2255.92. Accuracy: 0.96\n",
      "Epoch 9/10. Cost: 1784.83. Accuracy: 0.97\n",
      "=================\n",
      "Accuracy on test set:  0.9287\n"
     ]
    }
   ],
   "source": [
    "EPOCHS = 10\n",
    "\n",
    "model = NNModel([784, 256, 128, 10])\n",
    "\n",
    "preds = model.train(x_train, y_train, x_test, y_test, EPOCHS, batch_size=128)"
   ]
  },
  {
   "cell_type": "markdown",
   "metadata": {
    "colab_type": "text",
    "id": "VioflTOhTnwl"
   },
   "source": [
    "## Plotting the in-training Performance\n",
    "\n",
    "Let's take a look at how the model performed during training in a couple of plots."
   ]
  },
  {
   "cell_type": "code",
   "execution_count": 0,
   "metadata": {
    "colab": {
     "base_uri": "https://localhost:8080/",
     "height": 705
    },
    "colab_type": "code",
    "id": "azgmhikhM0EE",
    "outputId": "c60765bd-4835-4b21-def6-b8dfd08094bb"
   },
   "outputs": [
    {
     "data": {
      "image/png": "[encoded data removed]",
      "text/plain": [
       "<Figure size 576x396 with 1 Axes>"
      ]
     },
     "metadata": {
      "tags": []
     },
     "output_type": "display_data"
    },
    {
     "data": {
      "image/png": "[encoded data removed]",
      "text/plain": [
       "<Figure size 576x396 with 1 Axes>"
      ]
     },
     "metadata": {
      "tags": []
     },
     "output_type": "display_data"
    }
   ],
   "source": [
    "plt.plot(range(EPOCHS), model.costs)\n",
    "plt.xlabel('Epochs')\n",
    "plt.ylabel('Cost')\n",
    "plt.show()\n",
    "\n",
    "plt.plot(range(EPOCHS), model.accuracies)\n",
    "plt.xlabel('Epochs')\n",
    "plt.ylabel('Accuracy')\n",
    "plt.show()"
   ]
  },
  {
   "cell_type": "markdown",
   "metadata": {
    "colab_type": "text",
    "id": "JccKWvNYTtUW"
   },
   "source": [
    "## Predictions\n",
    "\n",
    "Finally, we will look at some of the predictions. The wrong predictions are labeled in red color."
   ]
  },
  {
   "cell_type": "code",
   "execution_count": 0,
   "metadata": {
    "colab": {
     "base_uri": "https://localhost:8080/",
     "height": 589
    },
    "colab_type": "code",
    "id": "-JwpigAlM2dF",
    "outputId": "5aafdf56-7387-459e-f143-1d0a9ff294df"
   },
   "outputs": [
    {
     "data": {
      "image/png": "[encoded data removed]",
      "text/plain": [
       "<Figure size 720x720 with 25 Axes>"
      ]
     },
     "metadata": {
      "tags": []
     },
     "output_type": "display_data"
    }
   ],
   "source": [
    "plt.figure(figsize=(10,10))\n",
    "\n",
    "for i in range(25):\n",
    "  plt.subplot(5, 5, i + 1)\n",
    "  plt.imshow(x_test_orig[i], cmap='binary')\n",
    "  plt.xticks([])\n",
    "  plt.yticks([])\n",
    "  pred = np.squeeze(preds[i])\n",
    "  label = np.argmax(y_test[i])\n",
    "  if pred == label:\n",
    "    col = 'g'\n",
    "  else:\n",
    "    col = 'r'\n",
    "  plt.xlabel('Pred: {} Label: {}'.format(pred, label), color=col)\n",
    "\n",
    "plt.show()"
   ]
  },
  {
   "cell_type": "code",
   "execution_count": 0,
   "metadata": {
    "colab": {},
    "colab_type": "code",
    "id": "U6BZp988NCIQ"
   },
   "outputs": [],
   "source": []
  }
 ],
 "metadata": {
  "accelerator": "GPU",
  "colab": {
   "collapsed_sections": [],
   "name": "Multi Class Classification from Scratch.ipynb",
   "provenance": [],
   "version": "0.3.2"
  },
  "kernelspec": {
   "display_name": "Python 3",
   "language": "python",
   "name": "python3"
  },
  "language_info": {
   "codemirror_mode": {
    "name": "ipython",
    "version": 3
   },
   "file_extension": ".py",
   "mimetype": "text/x-python",
   "name": "python",
   "nbconvert_exporter": "python",
   "pygments_lexer": "ipython3",
   "version": "3.6.7"
  }
 },
 "nbformat": 4,
 "nbformat_minor": 1
}
